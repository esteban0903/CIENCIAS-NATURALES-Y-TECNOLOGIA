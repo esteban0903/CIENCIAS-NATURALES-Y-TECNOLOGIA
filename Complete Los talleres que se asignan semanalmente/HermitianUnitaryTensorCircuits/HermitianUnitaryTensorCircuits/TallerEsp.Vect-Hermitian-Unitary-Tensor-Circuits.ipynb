{
 "cells": [
  {
   "cell_type": "markdown",
   "id": "c7d4de9a-e7dc-4cf3-bd8d-7da869ceb9ac",
   "metadata": {},
   "source": [
    "# Hermitian Matrices, Unitary Matrices and Tensor Product"
   ]
  },
  {
   "cell_type": "markdown",
   "id": "007db568-62bf-4098-a52f-281b41db3012",
   "metadata": {},
   "source": [
    "\n",
    "# Understanding Complex Hermitian and Unitary Matrices\n",
    "\n",
    "This tutorial delves into two pivotal concepts in quantum computing and linear algebra: complex Hermitian and Unitary matrices. Both play critical roles in quantum mechanics and quantum computing, underpinning the behavior of quantum systems and the operations performed on them.\n",
    "\n",
    "## Objectives\n",
    "- Define and explore the properties of complex Hermitian matrices.\n",
    "- Understand and implement complex Unitary matrices in Python.\n",
    "- Highlight their significance and applications in quantum computing.\n",
    "\n",
    "Prepare to enhance your mathematical toolkit with these foundational concepts, illustrated with Python examples for a hands-on learning experience.\n"
   ]
  },
  {
   "cell_type": "markdown",
   "id": "172b4789-ccc2-41be-ae1b-fff456a76c41",
   "metadata": {},
   "source": [
    "\n",
    "## Complex Hermitian Matrices\n",
    "\n",
    "A Hermitian matrix, or self-adjoint matrix, is a square matrix that is equal to its own conjugate transpose. This property makes it a natural representation of observable quantities in quantum mechanics.\n",
    "\n",
    "### Properties\n",
    "- The eigenvalues of a Hermitian matrix are always real.\n",
    "- The eigenvectors of a Hermitian matrix corresponding to different eigenvalues are orthogonal.\n",
    "- Hermitian matrices are extensively used in quantum mechanics to describe physical observables.\n",
    "\n",
    "### Python Example: Defining a Hermitian Matrix\n"
   ]
  },
  {
   "cell_type": "code",
   "execution_count": null,
   "id": "be7b7f14-c501-4fd9-a482-73f4acf8bfd9",
   "metadata": {},
   "outputs": [],
   "source": [
    "\n",
    "import numpy as np\n",
    "\n",
    "# Define a complex Hermitian matrix\n",
    "hermitian_matrix = np.array([[2+0j, 2-1j], [2+1j, 3+0j]])\n",
    "\n",
    "# Check if the matrix is Hermitian\n",
    "is_hermitian = np.allclose(hermitian_matrix, hermitian_matrix.conj().T)\n",
    "\n",
    "is_hermitian, hermitian_matrix\n"
   ]
  },
  {
   "cell_type": "markdown",
   "id": "6c6e41c4-7edb-46e0-b5a3-9dc381541312",
   "metadata": {},
   "source": [
    "\n",
    "## Complex Unitary Matrices\n",
    "\n",
    "A Unitary matrix is a square matrix whose conjugate transpose is also its inverse. Unitary matrices preserve the inner product, making them essential for describing quantum gates and evolution in quantum computing.\n",
    "\n",
    "### Properties\n",
    "- Preserves the norm of vectors, hence preserving quantum states during transformations.\n",
    "- The determinant of a Unitary matrix has an absolute value of 1.\n",
    "- Used to represent reversible quantum operations and time evolution in quantum systems.\n",
    "\n",
    "### Python Example: Defining a Unitary Matrix\n"
   ]
  },
  {
   "cell_type": "code",
   "execution_count": null,
   "id": "72119954-9647-4f66-93e9-c014c05bb48c",
   "metadata": {},
   "outputs": [],
   "source": [
    "\n",
    "# Define a complex Unitary matrix\n",
    "unitary_matrix = np.array([[1/np.sqrt(2), 1/np.sqrt(2)], [1/np.sqrt(2)*1j, -1/np.sqrt(2)*1j]])\n",
    "\n",
    "# Check if the matrix is Unitary\n",
    "# np.eye(2) returns the identity of size 2x2\n",
    "is_unitary = np.allclose(np.dot(unitary_matrix, unitary_matrix.conj().T), np.eye(2))\n",
    "\n",
    "is_unitary, unitary_matrix\n"
   ]
  },
  {
   "cell_type": "markdown",
   "id": "85750bcf-34ab-49ab-9163-509b29e719c9",
   "metadata": {},
   "source": [
    "# Tensor product"
   ]
  },
  {
   "cell_type": "markdown",
   "id": "b85487ee-1d19-47ab-a0a7-e05c8b758b13",
   "metadata": {},
   "source": [
    "\n",
    "## Tensor Product for Complex Vectors\n",
    "\n",
    "The tensor product of two complex vectors creates a new vector in a higher-dimensional space, allowing us to combine quantum states in quantum computing.\n",
    "\n",
    "### Example\n"
   ]
  },
  {
   "cell_type": "code",
   "execution_count": null,
   "id": "c4619aad-e04f-4787-a8ff-8e324f13b816",
   "metadata": {},
   "outputs": [],
   "source": [
    "\n",
    "import numpy as np\n",
    "\n",
    "# Define two complex vectors for the tensor product\n",
    "v1 = np.array([1+2j, 3+4j])\n",
    "v2 = np.array([5+6j, 7+8j])\n",
    "\n",
    "# Calculate the tensor product\n",
    "tensor_product_v = np.kron(v1, v2)\n",
    "\n",
    "tensor_product_v\n"
   ]
  },
  {
   "cell_type": "markdown",
   "id": "aa89e379-8ce8-493d-8b0e-6461a7fc1325",
   "metadata": {},
   "source": [
    "\n",
    "## Tensor Product for Complex Matrices\n",
    "\n",
    "The tensor product for matrices combines individual matrices into a larger matrix, crucial for representing multiple qubit systems in quantum computing.\n",
    "\n",
    "### Example\n"
   ]
  },
  {
   "cell_type": "code",
   "execution_count": null,
   "id": "c558e2f2-8ecf-466a-8fb4-469566157419",
   "metadata": {},
   "outputs": [],
   "source": [
    "\n",
    "# Define two complex matrices for the tensor product\n",
    "M1 = np.array([[1+2j, 3+4j], [5+6j, 7+8j]])\n",
    "M2 = np.array([[9+10j, 11+12j], [13+14j, 15+16j]])\n",
    "\n",
    "# Calculate the tensor product\n",
    "tensor_product_m = np.kron(M1, M2)\n",
    "\n",
    "tensor_product_m\n"
   ]
  },
  {
   "cell_type": "markdown",
   "id": "ffa82608-ea8c-4bc7-b357-a8552a649f0c",
   "metadata": {},
   "source": [
    "# Exercises on Complex Vector and Matrix Operations\n",
    "\n",
    "This set of exercises is designed to test your understanding of various concepts related to complex vector and matrix operations, which are foundational in quantum computing. Each exercise presents a concrete case for you to apply what you've learned about Hermitian matrices, Unitary matrices, and tensor products.\n",
    "\n",
    "NOTE: VERIFY YOUR COMPUTATIONS IN PAPER AND IN THE COMPUTER.\n",
    "\n",
    "## Exercise 1: Complex Hermitian Matrices\n",
    "\n",
    "Consider the matrix:\n",
    "\n",
    "$$ H = \\begin{bmatrix} 3 & 2+i \\\\ 2-i & 1 \\end{bmatrix} $$\n",
    "\n",
    "- Verify if $ H $ is a Hermitian matrix.\n",
    "- If it is, find its eigenvalues.\n",
    "\n",
    "## Exercise 2: Complex Unitary Matrices\n",
    "\n",
    "Consider the matrix:\n",
    "\n",
    "$$ U = \\frac{1}{\\sqrt{2}}\\begin{bmatrix} 1 & i \\\\ i & 1 \\end{bmatrix} $$\n",
    "\n",
    "- Verify if $ U $ is a Unitary matrix.\n",
    "- Compute $ UU^\\dagger $ to confirm its Unitarity, where $ U^\\dagger $ denotes the conjugate transpose of $ U $.\n",
    "\n",
    "## Exercise 3: Tensor Product for Complex Vectors\n",
    "\n",
    "Given the complex vectors:\n",
    "\n",
    "$$ \\mathbf{v} = \\begin{bmatrix} 1+i \\\\ 2-i \\end{bmatrix}, \\quad \\mathbf{w} = \\begin{bmatrix} 1-2i \\\\ 3 \\end{bmatrix} $$\n",
    "\n",
    "Calculate the tensor product $ \\mathbf{v} \\otimes \\mathbf{w} $.\n",
    "\n",
    "## Exercise 4: Tensor Product for Complex Matrices\n",
    "\n",
    "Given the matrices:\n",
    "\n",
    "$$ M_1 = \\begin{bmatrix} 0 & 1 \\\\ 1 & 0 \\end{bmatrix}, \\quad M_2 = \\begin{bmatrix} i & 0 \\\\ 0 & -i \\end{bmatrix} $$\n",
    "\n",
    "Calculate the tensor product $ M_1 \\otimes M_2 $.\n",
    "\n",
    "## Exercise 5: Modelling quantum computations with vectors and matrices\n",
    "\n",
    "Using matrices and vectors, implement a model of the Mach/Zehnder interferometer.\n",
    "\n",
    "![Mach-Zehnder interferometer](images/Mach-Zehnder-Interferometer.png)\n",
    "\n",
    "## Exercise 6: Composing quantum systems \n",
    "\n",
    "Using matrices and vectors, implement a model of the following circuit.\n",
    "\n",
    "![Mach-Zehnder interferometer](images/Deutsch-Algorithm.png)\n",
    "\n",
    "Use the following MAtrix for $U_f$:\n",
    "\n",
    "![Mach-Zehnder interferometer](images/ExampleUf.png)\n",
    "\n"
   ]
  },
  {
   "cell_type": "markdown",
   "id": "5934b8b3-1bc3-4d73-835e-4d1349d1572f",
   "metadata": {},
   "source": [
    "# RESPUESTAS\n",
    "## Exercise 1: Complex Hermitian Matrices\n",
    "\n",
    "Consider the matrix:\n",
    "\n",
    "$$ H = \\begin{bmatrix} 3 & 2+i \\\\ 2-i & 1 \\end{bmatrix} $$\n",
    "\n",
    "- Verify if $ H $ is a Hermitian matrix.\n",
    "- If it is, find its eigenvalues.\n",
    "### Answer:\n",
    "H is a hermitian matrix and its eigenvalues are: $$ Eigenvalues= \\begin{bmatrix} 4.44948974 & -6.70989255e-17i \\\\-0.44948974 & +1.15877743e-17i \\end{bmatrix} $$"
   ]
  },
  {
   "cell_type": "code",
   "execution_count": 19,
   "id": "ffe57e3e-2c96-4f0b-871c-20956408b315",
   "metadata": {
    "jupyter": {
     "source_hidden": true
    }
   },
   "outputs": [
    {
     "name": "stdout",
     "output_type": "stream",
     "text": [
      "Eigenvalues: [ 4.44948974-6.70989255e-17j -0.44948974+1.15877743e-17j]\n"
     ]
    },
    {
     "data": {
      "text/plain": [
       "(True,\n",
       " array([[3.+0.j, 2.+1.j],\n",
       "        [2.-1.j, 1.+0.j]]))"
      ]
     },
     "execution_count": 19,
     "metadata": {},
     "output_type": "execute_result"
    }
   ],
   "source": [
    "import numpy as np\n",
    "\n",
    "# Define a complex Hermitian matrix\n",
    "hermitian_matrix = np.array([[3+0j, 2+1j], [2-1j, 1+0j]])\n",
    "\n",
    "# Check if the matrix is Hermitian\n",
    "is_hermitian = np.allclose(hermitian_matrix, hermitian_matrix.conj().T)\n",
    "import numpy as np\n",
    "\n",
    "# Compute eigenvalues and eigenvectors\n",
    "eigenvalues, eigenvectors = np.linalg.eig(hermitian_matrix)\n",
    "\n",
    "print(\"Eigenvalues:\", eigenvalues)\n",
    "\n",
    "is_hermitian, hermitian_matrix"
   ]
  },
  {
   "cell_type": "markdown",
   "id": "b079efd4-a71a-4588-a511-7ba9b6ae9808",
   "metadata": {},
   "source": [
    "## Exercise 2: Complex Unitary Matrices\n",
    "\n",
    "Consider the matrix:\n",
    "\n",
    "$$ U = \\frac{1}{\\sqrt{2}}\\begin{bmatrix} 1 & i \\\\ i & 1 \\end{bmatrix} $$\n",
    "\n",
    "- Verify if $ U $ is a Unitary matrix.\n",
    "- Compute $ UU^\\dagger $ to confirm its Unitarity, where $ U^\\dagger $ denotes the conjugate transpose of $ U $.\n",
    "### Answer:\n",
    "U is a unitary matrix and $$ UU^\\dagger =0i $$"
   ]
  },
  {
   "cell_type": "code",
   "execution_count": 20,
   "id": "7502ae35-fac8-403b-bd04-d5fe372f6cd1",
   "metadata": {
    "collapsed": true,
    "jupyter": {
     "outputs_hidden": true,
     "source_hidden": true
    },
    "scrolled": true
   },
   "outputs": [
    {
     "data": {
      "text/plain": [
       "(True,\n",
       " array([[0.70710678+0.j        , 0.        +0.70710678j],\n",
       "        [0.        +0.70710678j, 0.70710678+0.j        ]]),\n",
       " 0j)"
      ]
     },
     "execution_count": 20,
     "metadata": {},
     "output_type": "execute_result"
    }
   ],
   "source": [
    "\n",
    "# Define a complex Unitary matrix\n",
    "unitary_matrix = np.array([[1/np.sqrt(2)+0j, 1/np.sqrt(2)*1j], [1/np.sqrt(2)*1j, 1/np.sqrt(2)+0j]])\n",
    "\n",
    "# Check if the matrix is Unitary\n",
    "# np.eye(2) returns the identity of size 2x2\n",
    "is_unitary = np.allclose(np.dot(unitary_matrix, unitary_matrix.conj().T), np.eye(2))\n",
    "\n",
    "\n",
    "\n",
    "adjunct_unitary_matrix = unitary_matrix.T.conj()\n",
    "complex_internal_product_matrix = np.trace(np.dot(np.conjugate(unitary_matrix).T, adjunct_unitary_matrix))\n",
    "\n",
    "is_unitary, unitary_matrix,complex_internal_product_matrix"
   ]
  },
  {
   "cell_type": "markdown",
   "id": "31e9c92e-6f6b-4f9b-a763-6d3b6e007f58",
   "metadata": {},
   "source": [
    "## Exercise 3: Tensor Product for Complex Vectors\n",
    "\n",
    "Given the complex vectors:\n",
    "\n",
    "$$ \\mathbf{v} = \\begin{bmatrix} 1+i \\\\ 2-i \\end{bmatrix}, \\quad \\mathbf{w} = \\begin{bmatrix} 1-2i \\\\ 3 \\end{bmatrix} $$\n",
    "\n",
    "Calculate the tensor product $ \\mathbf{v} \\otimes \\mathbf{w} $.\n",
    "### Answer\n",
    "The tensor product$$ \\mathbf{v} \\otimes \\mathbf{w}  =  \\begin{bmatrix} 3-i & 3+3i \\\\ -5i & 6-3i \\end{bmatrix}$$"
   ]
  },
  {
   "cell_type": "code",
   "execution_count": 16,
   "id": "e0b82511-0e22-4c42-b33e-4dca58ef37db",
   "metadata": {
    "collapsed": true,
    "jupyter": {
     "outputs_hidden": true,
     "source_hidden": true
    }
   },
   "outputs": [
    {
     "data": {
      "text/plain": [
       "array([3.-1.j, 3.+3.j, 0.-5.j, 6.-3.j])"
      ]
     },
     "execution_count": 16,
     "metadata": {},
     "output_type": "execute_result"
    }
   ],
   "source": [
    "\n",
    "import numpy as np\n",
    "\n",
    "# Define two complex vectors for the tensor product\n",
    "v1 = np.array([1+1j, 2-1j])\n",
    "v2 = np.array([1-2j, 3])\n",
    "\n",
    "# Calculate the tensor product\n",
    "tensor_product_v = np.kron(v1, v2)\n",
    "\n",
    "tensor_product_v"
   ]
  },
  {
   "cell_type": "markdown",
   "id": "cf543f9e-470b-4310-b312-95dec9addf60",
   "metadata": {},
   "source": [
    "## Exercise 4: Tensor Product for Complex Matrices\n",
    "\n",
    "Given the matrices:\n",
    "\n",
    "$$ M_1 = \\begin{bmatrix} 0 & 1 \\\\ 1 & 0 \\end{bmatrix}, \\quad M_2 = \\begin{bmatrix} i & 0 \\\\ 0 & -i \\end{bmatrix} $$\n",
    "\n",
    "Calculate the tensor product $ M_1 \\otimes M_2 $.\n",
    "### Answer\n",
    "The tensor product$$ \\mathbf{v} \\otimes \\mathbf{w}  =  \\begin{bmatrix} 0 & 0 & i & 0 \\\\ 0 & 0 & 0 & -i \\\\ i & 0 & 0 & 0 \\\\ 0 & -i & 0 & 0\\end{bmatrix}$$"
   ]
  },
  {
   "cell_type": "code",
   "execution_count": 21,
   "id": "15cff607-96a9-4169-8b58-7a54098c9e0b",
   "metadata": {
    "collapsed": true,
    "jupyter": {
     "outputs_hidden": true
    }
   },
   "outputs": [
    {
     "data": {
      "text/plain": [
       "array([[0.+0.j, 0.+0.j, 0.+1.j, 0.+0.j],\n",
       "       [0.+0.j, 0.-0.j, 0.+0.j, 0.-1.j],\n",
       "       [0.+1.j, 0.+0.j, 0.+0.j, 0.+0.j],\n",
       "       [0.+0.j, 0.-1.j, 0.+0.j, 0.-0.j]])"
      ]
     },
     "execution_count": 21,
     "metadata": {},
     "output_type": "execute_result"
    }
   ],
   "source": [
    "\n",
    "# Define two complex matrices for the tensor product\n",
    "M1 = np.array([[0, 1], [1, 0]])\n",
    "M2 = np.array([[1j, 0], [0, -1j]])\n",
    "\n",
    "# Calculate the tensor product\n",
    "tensor_product_m = np.kron(M1, M2)\n",
    "\n",
    "tensor_product_m\n"
   ]
  },
  {
   "cell_type": "markdown",
   "id": "621d9ac9-d6d9-4607-94ab-968a856ea937",
   "metadata": {},
   "source": [
    "## Exercise 5: Modelling quantum computations with vectors and matrices\n",
    "\n",
    "Using matrices and vectors, implement a model of the Mach/Zehnder interferometer.\n",
    "\n",
    "![Mach-Zehnder interferometer](images/Mach-Zehnder-Interferometer.png)"
   ]
  },
  {
   "cell_type": "code",
   "execution_count": null,
   "id": "b0f2ddbb-77e4-48da-9d12-f45184106a5b",
   "metadata": {},
   "outputs": [],
   "source": []
  },
  {
   "cell_type": "markdown",
   "id": "fd653685-c837-4d34-9d97-da7d6cc8f041",
   "metadata": {},
   "source": [
    "## Exercise 6: Composing quantum systems \n",
    "\n",
    "Using matrices and vectors, implement a model of the following circuit.\n",
    "\n",
    "![Mach-Zehnder interferometer](images/Deutsch-Algorithm.png)\n",
    "\n",
    "Use the following MAtrix for $U_f$:\n",
    "\n",
    "![Mach-Zehnder interferometer](images/ExampleUf.png)"
   ]
  },
  {
   "cell_type": "code",
   "execution_count": null,
   "id": "d64f3dfc-3c70-4c1e-8b59-e32d944d307c",
   "metadata": {},
   "outputs": [],
   "source": []
  }
 ],
 "metadata": {
  "kernelspec": {
   "display_name": "Python 3 (ipykernel)",
   "language": "python",
   "name": "python3"
  },
  "language_info": {
   "codemirror_mode": {
    "name": "ipython",
    "version": 3
   },
   "file_extension": ".py",
   "mimetype": "text/x-python",
   "name": "python",
   "nbconvert_exporter": "python",
   "pygments_lexer": "ipython3",
   "version": "3.11.5"
  }
 },
 "nbformat": 4,
 "nbformat_minor": 5
}
