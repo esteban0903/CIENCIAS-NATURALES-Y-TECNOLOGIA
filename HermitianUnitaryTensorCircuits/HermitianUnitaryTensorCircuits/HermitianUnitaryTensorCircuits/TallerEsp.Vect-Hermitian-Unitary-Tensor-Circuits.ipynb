{
 "cells": [
  {
   "cell_type": "markdown",
   "id": "5934b8b3-1bc3-4d73-835e-4d1349d1572f",
   "metadata": {},
   "source": [
    "# RESPUESTAS\n",
    "## Exercise 1: Complex Hermitian Matrices\n",
    "\n",
    "Consider the matrix:\n",
    "\n",
    "$$ H = \\begin{bmatrix} 3 & 2+i \\\\ 2-i & 1 \\end{bmatrix} $$\n",
    "\n",
    "- Verify if $ H $ is a Hermitian matrix.\n",
    "- If it is, find its eigenvalues.\n",
    "### Answer:\n",
    "H is a hermitian matrix and its eigenvalues are: $$ Eigenvalues= \\begin{bmatrix} 4.44948974 & -6.70989255e-17i \\\\-0.44948974 & +1.15877743e-17i \\end{bmatrix} $$"
   ]
  },
  {
   "cell_type": "code",
   "execution_count": 19,
   "id": "ffe57e3e-2c96-4f0b-871c-20956408b315",
   "metadata": {
    "jupyter": {
     "source_hidden": true
    }
   },
   "outputs": [
    {
     "name": "stdout",
     "output_type": "stream",
     "text": [
      "Eigenvalues: [ 4.44948974-6.70989255e-17j -0.44948974+1.15877743e-17j]\n"
     ]
    },
    {
     "data": {
      "text/plain": [
       "(True,\n",
       " array([[3.+0.j, 2.+1.j],\n",
       "        [2.-1.j, 1.+0.j]]))"
      ]
     },
     "execution_count": 19,
     "metadata": {},
     "output_type": "execute_result"
    }
   ],
   "source": [
    "import numpy as np\n",
    "\n",
    "# Define a complex Hermitian matrix\n",
    "hermitian_matrix = np.array([[3+0j, 2+1j], [2-1j, 1+0j]])\n",
    "\n",
    "# Check if the matrix is Hermitian\n",
    "is_hermitian = np.allclose(hermitian_matrix, hermitian_matrix.conj().T)\n",
    "import numpy as np\n",
    "\n",
    "# Compute eigenvalues and eigenvectors\n",
    "eigenvalues, eigenvectors = np.linalg.eig(hermitian_matrix)\n",
    "\n",
    "print(\"Eigenvalues:\", eigenvalues)\n",
    "\n",
    "is_hermitian, hermitian_matrix"
   ]
  },
  {
   "cell_type": "markdown",
   "id": "b079efd4-a71a-4588-a511-7ba9b6ae9808",
   "metadata": {},
   "source": [
    "## Exercise 2: Complex Unitary Matrices\n",
    "\n",
    "Consider the matrix:\n",
    "\n",
    "$$ U = \\frac{1}{\\sqrt{2}}\\begin{bmatrix} 1 & i \\\\ i & 1 \\end{bmatrix} $$\n",
    "\n",
    "- Verify if $ U $ is a Unitary matrix.\n",
    "- Compute $ UU^\\dagger $ to confirm its Unitarity, where $ U^\\dagger $ denotes the conjugate transpose of $ U $.\n",
    "### Answer:\n",
    "U is a unitary matrix and $$ UU^\\dagger =0i $$"
   ]
  },
  {
   "cell_type": "code",
   "execution_count": 20,
   "id": "7502ae35-fac8-403b-bd04-d5fe372f6cd1",
   "metadata": {
    "collapsed": true,
    "jupyter": {
     "outputs_hidden": true,
     "source_hidden": true
    },
    "scrolled": true
   },
   "outputs": [
    {
     "data": {
      "text/plain": [
       "(True,\n",
       " array([[0.70710678+0.j        , 0.        +0.70710678j],\n",
       "        [0.        +0.70710678j, 0.70710678+0.j        ]]),\n",
       " 0j)"
      ]
     },
     "execution_count": 20,
     "metadata": {},
     "output_type": "execute_result"
    }
   ],
   "source": [
    "\n",
    "# Define a complex Unitary matrix\n",
    "unitary_matrix = np.array([[1/np.sqrt(2)+0j, 1/np.sqrt(2)*1j], [1/np.sqrt(2)*1j, 1/np.sqrt(2)+0j]])\n",
    "\n",
    "# Check if the matrix is Unitary\n",
    "# np.eye(2) returns the identity of size 2x2\n",
    "is_unitary = np.allclose(np.dot(unitary_matrix, unitary_matrix.conj().T), np.eye(2))\n",
    "\n",
    "\n",
    "\n",
    "adjunct_unitary_matrix = unitary_matrix.T.conj()\n",
    "complex_internal_product_matrix = np.trace(np.dot(np.conjugate(unitary_matrix).T, adjunct_unitary_matrix))\n",
    "\n",
    "is_unitary, unitary_matrix,complex_internal_product_matrix"
   ]
  },
  {
   "cell_type": "markdown",
   "id": "31e9c92e-6f6b-4f9b-a763-6d3b6e007f58",
   "metadata": {},
   "source": [
    "## Exercise 3: Tensor Product for Complex Vectors\n",
    "\n",
    "Given the complex vectors:\n",
    "\n",
    "$$ \\mathbf{v} = \\begin{bmatrix} 1+i \\\\ 2-i \\end{bmatrix}, \\quad \\mathbf{w} = \\begin{bmatrix} 1-2i \\\\ 3 \\end{bmatrix} $$\n",
    "\n",
    "Calculate the tensor product $ \\mathbf{v} \\otimes \\mathbf{w} $.\n",
    "### Answer\n",
    "The tensor product$$ \\mathbf{v} \\otimes \\mathbf{w}  =  \\begin{bmatrix} 3-i & 3+3i \\\\ -5i & 6-3i \\end{bmatrix}$$"
   ]
  },
  {
   "cell_type": "code",
   "execution_count": 16,
   "id": "e0b82511-0e22-4c42-b33e-4dca58ef37db",
   "metadata": {
    "collapsed": true,
    "jupyter": {
     "outputs_hidden": true,
     "source_hidden": true
    }
   },
   "outputs": [
    {
     "data": {
      "text/plain": [
       "array([3.-1.j, 3.+3.j, 0.-5.j, 6.-3.j])"
      ]
     },
     "execution_count": 16,
     "metadata": {},
     "output_type": "execute_result"
    }
   ],
   "source": [
    "\n",
    "import numpy as np\n",
    "\n",
    "# Define two complex vectors for the tensor product\n",
    "v1 = np.array([1+1j, 2-1j])\n",
    "v2 = np.array([1-2j, 3])\n",
    "\n",
    "# Calculate the tensor product\n",
    "tensor_product_v = np.kron(v1, v2)\n",
    "\n",
    "tensor_product_v"
   ]
  },
  {
   "cell_type": "markdown",
   "id": "cf543f9e-470b-4310-b312-95dec9addf60",
   "metadata": {},
   "source": [
    "## Exercise 4: Tensor Product for Complex Matrices\n",
    "\n",
    "Given the matrices:\n",
    "\n",
    "$$ M_1 = \\begin{bmatrix} 0 & 1 \\\\ 1 & 0 \\end{bmatrix}, \\quad M_2 = \\begin{bmatrix} i & 0 \\\\ 0 & -i \\end{bmatrix} $$\n",
    "\n",
    "Calculate the tensor product $ M_1 \\otimes M_2 $.\n",
    "### Answer\n",
    "The tensor product$$ \\mathbf{v} \\otimes \\mathbf{w}  =  \\begin{bmatrix} 0 & 0 & i & 0 \\\\ 0 & 0 & 0 & -i \\\\ i & 0 & 0 & 0 \\\\ 0 & -i & 0 & 0\\end{bmatrix}$$"
   ]
  },
  {
   "cell_type": "code",
   "execution_count": 21,
   "id": "15cff607-96a9-4169-8b58-7a54098c9e0b",
   "metadata": {
    "collapsed": true,
    "jupyter": {
     "outputs_hidden": true,
     "source_hidden": true
    }
   },
   "outputs": [
    {
     "data": {
      "text/plain": [
       "array([[0.+0.j, 0.+0.j, 0.+1.j, 0.+0.j],\n",
       "       [0.+0.j, 0.-0.j, 0.+0.j, 0.-1.j],\n",
       "       [0.+1.j, 0.+0.j, 0.+0.j, 0.+0.j],\n",
       "       [0.+0.j, 0.-1.j, 0.+0.j, 0.-0.j]])"
      ]
     },
     "execution_count": 21,
     "metadata": {},
     "output_type": "execute_result"
    }
   ],
   "source": [
    "\n",
    "# Define two complex matrices for the tensor product\n",
    "M1 = np.array([[0, 1], [1, 0]])\n",
    "M2 = np.array([[1j, 0], [0, -1j]])\n",
    "\n",
    "# Calculate the tensor product\n",
    "tensor_product_m = np.kron(M1, M2)\n",
    "\n",
    "tensor_product_m\n"
   ]
  },
  {
   "cell_type": "markdown",
   "id": "fd653685-c837-4d34-9d97-da7d6cc8f041",
   "metadata": {},
   "source": [
    "## Exercise 6: Composing quantum systems \n",
    "\n",
    "Using matrices and vectors, implement a model of the following circuit.\n",
    "\n",
    "![Mach-Zehnder interferometer](images/Deutsch-Algorithm.png)\n",
    "\n",
    "Use the following MAtrix for $U_f$:\n",
    "\n",
    "![Mach-Zehnder interferometer](images/ExampleUf.png)\n",
    "\n",
    "### Answer \n",
    "$$ M =  \\frac{1}{\\sqrt{2}}\\begin{bmatrix} 0 \\\\ 0 \\\\ -1 \\\\ 1 \\end{bmatrix}$$"
   ]
  },
  {
   "cell_type": "code",
   "execution_count": 11,
   "id": "d64f3dfc-3c70-4c1e-8b59-e32d944d307c",
   "metadata": {
    "collapsed": true,
    "jupyter": {
     "outputs_hidden": true,
     "source_hidden": true
    }
   },
   "outputs": [
    {
     "name": "stdout",
     "output_type": "stream",
     "text": [
      "[[ 0.        ]\n",
      " [ 0.        ]\n",
      " [-0.70710678]\n",
      " [ 0.70710678]]\n"
     ]
    }
   ],
   "source": [
    "\n",
    "array_a= np.array([[1/np.sqrt(2), (1/np.sqrt(2))], [(1/np.sqrt(2)), -1/np.sqrt(2)]])\n",
    "s1 = np.array([[1],[0]]) \n",
    "s2 = np.array([[0],[1]])\n",
    "array_uf = np.array([[0,1,0,0],[1,0,0,0],[0,0,1,0],[0,0,0,1]])\n",
    "array_b = np.array([[1,0], [0,1]])\n",
    "\n",
    "A=np.kron (array_a,array_a) \n",
    "B=np.kron (s1, s2) \n",
    "C = np.dot (A,B) \n",
    "D = np.kron (array_a, array_b) \n",
    "E= np.dot (array_uf, C) \n",
    "print (np.dot (D, E)) \n"
   ]
  },
  {
   "cell_type": "code",
   "execution_count": null,
   "id": "f328777c-6c82-4403-b1ca-3cb8fc07a347",
   "metadata": {},
   "outputs": [],
   "source": []
  }
 ],
 "metadata": {
  "kernelspec": {
   "display_name": "Python 3 (ipykernel)",
   "language": "python",
   "name": "python3"
  },
  "language_info": {
   "codemirror_mode": {
    "name": "ipython",
    "version": 3
   },
   "file_extension": ".py",
   "mimetype": "text/x-python",
   "name": "python",
   "nbconvert_exporter": "python",
   "pygments_lexer": "ipython3",
   "version": "3.12.0"
  }
 },
 "nbformat": 4,
 "nbformat_minor": 5
}
