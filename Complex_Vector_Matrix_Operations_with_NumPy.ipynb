{
 "cells": [
  {
   "cell_type": "markdown",
   "id": "c977d409-f431-4482-8be5-4845a98b5450",
   "metadata": {},
   "source": [
    "# Answers\n",
    "\n",
    "### Exercise 1: Sum of Two Complex Vectors\n",
    "Given two complex vectors \n",
    "$$ v1 = \\begin{bmatrix} 1 + 2i \\\\ 3 - i \\end{bmatrix} $$ \n",
    "and \n",
    "$$ v2 = \\begin{bmatrix} 2 - i \\\\ 4 + 2i \\end{bmatrix} $$, \n",
    "find their sum.\n",
    "\n",
    "## Answer\n",
    "As evident in the code, the answer of the sum of these two vectors is:\n",
    "$$ v1 + v2 = \\begin{bmatrix} 3 + i \\\\ 7 + i \\end{bmatrix} $$\n",
    "\n",
    "\n"
   ]
  },
  {
   "cell_type": "code",
   "execution_count": 1,
   "id": "0dc3657c-0405-4238-a537-2e1918ac6e77",
   "metadata": {
    "collapsed": true,
    "jupyter": {
     "outputs_hidden": true,
     "source_hidden": true
    }
   },
   "outputs": [
    {
     "name": "stdout",
     "output_type": "stream",
     "text": [
      "v1 =  [[1.+2.j]\n",
      " [3.-1.j]]\n",
      "v2 =  [[1.+2.j]\n",
      " [3.-1.j]]\n",
      "v1 + v2 =  [[3.+1.j]\n",
      " [7.+1.j]]\n"
     ]
    }
   ],
   "source": [
    "import numpy as np\n",
    "\n",
    "# Define two complex column vectors\n",
    "v1 = np.array([[1+2j], [3-1j]])\n",
    "v2 = np.array([[2-1j], [4+2j]])\n",
    "print(\"v1 = \",v1)\n",
    "print(\"v2 = \",v1)\n",
    "# Sum\n",
    "sum_v = v1 + v2\n",
    "print(\"v1 + v2 = \",sum_v)\n",
    "\n",
    "\n",
    "\n"
   ]
  },
  {
   "cell_type": "markdown",
   "id": "b608ff1d-49fa-4f58-a058-6f7e0b2e3dc9",
   "metadata": {},
   "source": [
    "### Exercise 2: Negation of a Complex Vector\n",
    "Given a complex vector \n",
    "$$ v = \\begin{bmatrix} 2 + 3i \\\\ 1 - 2i \\end{bmatrix} $$, \n",
    "find its negation.\n",
    "\n",
    "## Answer\n",
    "As evident in the code, the answer of the negation of this vector is:\n",
    "$$ -(v) = \\begin{bmatrix} -2 - 3i \\\\ -1 + 2i \\end{bmatrix} $$\n"
   ]
  },
  {
   "cell_type": "code",
   "execution_count": 19,
   "id": "80afee1b-8882-4b38-9189-1fd705a2b5cf",
   "metadata": {
    "collapsed": true,
    "jupyter": {
     "outputs_hidden": true,
     "source_hidden": true
    }
   },
   "outputs": [
    {
     "name": "stdout",
     "output_type": "stream",
     "text": [
      "v1 =  [[2.+3.j]\n",
      " [1.-2.j]]\n",
      "-(v1) =  [[-2.-3.j]\n",
      " [-1.+2.j]]\n"
     ]
    }
   ],
   "source": [
    "import numpy as np\n",
    "\n",
    "# Define one complex column vector\n",
    "v1 = np.array([[2+3j], [1-2j]])\n",
    "# Negation\n",
    "neg_v1 = -v1\n",
    "print(\"v1 = \",v1)\n",
    "print(\"-(v1) = \",neg_v1)"
   ]
  },
  {
   "cell_type": "markdown",
   "id": "d329364b-b4a8-4d34-8bab-04381a4d89b8",
   "metadata": {},
   "source": [
    "### Exercise 3: Multiplication of a Complex Vector by a Scalar\n",
    "Multiply the complex vector \n",
    "$$ v = \\begin{bmatrix} 1 - i \\\\ 2 + 2i \\end{bmatrix} $$ \n",
    "by the complex scalar $$ 3 + i $$.\n",
    "\n",
    "## Answer\n",
    "As evident in the code, the answer of the multiplicacion of this Complex Vextor by a scalar is:\n",
    "$$ (3+i) *v = \\begin{bmatrix} 4 - 2i \\\\ 4 + 8i \\end{bmatrix} $$"
   ]
  },
  {
   "cell_type": "code",
   "execution_count": 23,
   "id": "2f5a4bda-99e0-4a86-b745-fb78654c3e20",
   "metadata": {
    "collapsed": true,
    "jupyter": {
     "outputs_hidden": true,
     "source_hidden": true
    }
   },
   "outputs": [
    {
     "name": "stdout",
     "output_type": "stream",
     "text": [
      "v1 =  [[1.-1.j]\n",
      " [2.+2.j]]\n",
      "Scalar =  (3+1j)\n",
      "Scalar*v1 =  [[4.-2.j]\n",
      " [4.+8.j]]\n"
     ]
    }
   ],
   "source": [
    "# Define one complex column vector\n",
    "v1 = np.array([[1-1j], [2+2j]])\n",
    "\n",
    "# Multiplication by a scalar\n",
    "scalar = 3 + 1j\n",
    "mult_v1 = v1 * scalar\n",
    "\n",
    "print(\"v1 = \",v1)\n",
    "print(\"Scalar = \",scalar)\n",
    "print(\"Scalar*v1 = \",mult_v1)\n"
   ]
  },
  {
   "cell_type": "markdown",
   "id": "a91108ff-e86a-4ab6-8468-50359e74ed43",
   "metadata": {},
   "source": [
    "### Exercise 4: Transpose of a Complex Vector\n",
    "Find the transpose of the complex vector \n",
    "$$ v = \\begin{bmatrix} 2 - i \\\\ 3 + 4i \\end{bmatrix} $$.\n",
    "\n",
    "## Answer\n",
    "As evident in the code, the answer of the transpose of this Complex Vector is:\n",
    "$$ T(v) = \\begin{bmatrix} 2 - i \\\\ 3 + 4i \\end{bmatrix} $$\n",
    "\n"
   ]
  },
  {
   "cell_type": "code",
   "execution_count": 24,
   "id": "6235bfda-ac6e-46e3-97d9-81ead01110e4",
   "metadata": {
    "collapsed": true,
    "jupyter": {
     "outputs_hidden": true,
     "source_hidden": true
    }
   },
   "outputs": [
    {
     "name": "stdout",
     "output_type": "stream",
     "text": [
      "v1 =  [[2.-1.j]\n",
      " [3.+4.j]]\n",
      "transpose =  [[2.-1.j 3.+4.j]]\n"
     ]
    }
   ],
   "source": [
    "# Define one complex column vector\n",
    "v1 = np.array([[2-1j], [3+4j]])\n",
    "\n",
    "# Transpose\n",
    "transpose_v1 = v1.T\n",
    "\n",
    "print(\"v1 = \",v1)\n",
    "print(\"transpose = \",transpose_v1)"
   ]
  },
  {
   "cell_type": "markdown",
   "id": "d0333df6-d774-436c-b885-4c7f456ad31f",
   "metadata": {},
   "source": [
    "### Exercise 5: Conjugate of a Complex Vector\n",
    "Compute the conjugate of the complex vector \n",
    "$$ v = \\begin{bmatrix} 2 - i \\\\ 3 + 4i \\end{bmatrix} $$.\n",
    "\n",
    "## Answer\n",
    "As evident in the code, the answer of the conjugate of this Complex Vector is:\n",
    "$$ C(v) = \\begin{bmatrix} 2 + i \\\\ 3 - 4i \\end{bmatrix} $$\n"
   ]
  },
  {
   "cell_type": "code",
   "execution_count": 29,
   "id": "5e41ae9e-34e8-4d44-b2f8-b52d8fdb5f88",
   "metadata": {
    "collapsed": true,
    "jupyter": {
     "outputs_hidden": true,
     "source_hidden": true
    }
   },
   "outputs": [
    {
     "name": "stdout",
     "output_type": "stream",
     "text": [
      "v1 =  [[2.-1.j]\n",
      " [3.+4.j]]\n",
      "conjugate =  [[2.+1.j]\n",
      " [3.-4.j]]\n"
     ]
    }
   ],
   "source": [
    "# Define one complex column vector\n",
    "v1 = np.array([[2-1j], [3+4j]])\n",
    "\n",
    "# Conjugate\n",
    "conjugate_v1 = np.conjugate(v1)\n",
    "\n",
    "print(\"v1 = \",v1)\n",
    "print(\"conjugate = \",conjugate_v1)\n"
   ]
  },
  {
   "cell_type": "markdown",
   "id": "598c1203-3d62-47e7-bf8b-d68c6848e91d",
   "metadata": {},
   "source": [
    "### Exercise 6: Adjunct (Conjugate Transpose) of a Complex Vector\n",
    "Find the adjunct (or conjugate transpose) of the complex vector \n",
    "$$ v = \\begin{bmatrix} 1 - 2i \\\\ 3 + i \\end{bmatrix} $$.\n",
    "\n",
    "## Answer\n",
    "As evident in the code, the answer of the adjunct (Conjugate Transpose) of this Complex Vector is:\n",
    "$$ Adj(v) = \\begin{bmatrix} 1 + 2i \\\\ 3 - i \\end{bmatrix} $$\n"
   ]
  },
  {
   "cell_type": "code",
   "execution_count": 35,
   "id": "69bf21b0-9e83-4720-932b-b4b527e71afc",
   "metadata": {
    "collapsed": true,
    "jupyter": {
     "outputs_hidden": true,
     "source_hidden": true
    }
   },
   "outputs": [
    {
     "name": "stdout",
     "output_type": "stream",
     "text": [
      "v1 =  [[1.-2.j]\n",
      " [3.+1.j]]\n",
      "adjunct =  [[1.+2.j 3.-1.j]]\n"
     ]
    }
   ],
   "source": [
    "# Define one complex column vector\n",
    "v1 = np.array([[1-2j], [3+1j]])\n",
    "\n",
    "# Adjunct (Conjugate transpose)\n",
    "adjunct_v1 = v1.T.conj()\n",
    "\n",
    "print(\"v1 = \",v1)\n",
    "print(\"adjunct = \",adjunct_v1)\n"
   ]
  },
  {
   "cell_type": "markdown",
   "id": "94e8f999-b765-47de-8fae-1b1c3862b9fe",
   "metadata": {},
   "source": [
    "## Complex Square Matrix Operations\n",
    "\n",
    "### Exercise 7: Sum of Two Complex Matrices\n",
    "Given two complex matrices \n",
    "$$ m1 = \\begin{bmatrix} 1 + i & 2 - i \\\\ 3 + 2i & 4 \\end{bmatrix} $$ \n",
    "and \n",
    "$$ m2 = \\begin{bmatrix} 2 - 3i & 1 \\\\ i & 2 + 2i \\end{bmatrix} $$, \n",
    "calculate their sum.\n",
    "\n",
    "## Answer\n",
    "As evident in the code, the answer of the sum of these two complex matrices is:\n",
    "$$ m1 + m2 = \\begin{bmatrix} 3 - 2i & 4 + 2i \\\\ 2  & 6 + 2i \\end{bmatrix} $$"
   ]
  },
  {
   "cell_type": "code",
   "execution_count": 42,
   "id": "a2827130-d880-4906-8e3d-b51b55840a43",
   "metadata": {
    "collapsed": true,
    "jupyter": {
     "outputs_hidden": true,
     "source_hidden": true
    }
   },
   "outputs": [
    {
     "name": "stdout",
     "output_type": "stream",
     "text": [
      "m1 =  [[1.+1.j 3.+2.j]\n",
      " [2.-1.j 4.+0.j]]\n",
      "m2 =  [[2.-3.j 1.+0.j]\n",
      " [0.+1.j 2.+2.j]]\n",
      "m1+m2 =  [[3.-2.j 4.+2.j]\n",
      " [2.+0.j 6.+2.j]]\n"
     ]
    }
   ],
   "source": [
    "# Define two 2x2 complex matrices\n",
    "m1 = np.array([[1+1j, 3+2j], \n",
    "               [2-1j, 4]])\n",
    "m2 = np.array([[2-3j, 1], \n",
    "               [1j, 2+2j]])\n",
    "\n",
    "# Sum\n",
    "sum_m = m1 + m2\n",
    "\n",
    "print(\"m1 = \",m1)\n",
    "print(\"m2 = \",m2)\n",
    "print(\"m1+m2 = \",sum_m)\n",
    "\n"
   ]
  },
  {
   "cell_type": "markdown",
   "id": "653e15b0-9306-4322-8a97-de6af10da19d",
   "metadata": {},
   "source": [
    "### Exercise 8: Negation of a Complex Matrix\n",
    "Find the negation of the complex matrix \n",
    "$$ m = \\begin{bmatrix} 2 + i & 3 \\\\ 1 - i & 2 + 2i \\end{bmatrix} $$.\n",
    "\n",
    "## Answer\n",
    "As evident in the code, the answer of the negation of this  complex matrix is:\n",
    "$$ -(m) = \\begin{bmatrix} -2 - i & -3 \\\\ -1 + i  & -2 - 2i \\end{bmatrix} $$"
   ]
  },
  {
   "cell_type": "code",
   "execution_count": 43,
   "id": "83444044-c02f-49d4-a43f-1dfa397dbcdb",
   "metadata": {
    "collapsed": true,
    "jupyter": {
     "outputs_hidden": true,
     "source_hidden": true
    }
   },
   "outputs": [
    {
     "name": "stdout",
     "output_type": "stream",
     "text": [
      "m1 =  [[2.+1.j 3.+0.j]\n",
      " [1.-1.j 2.+2.j]]\n",
      "m1+m2 =  [[-2.-1.j -3.-0.j]\n",
      " [-1.+1.j -2.-2.j]]\n"
     ]
    }
   ],
   "source": [
    "# Define one 2x2 complex matrix\n",
    "m1 = np.array([[2+1j, 3], \n",
    "               [1-1j, 2+2j]])\n",
    "# Negation\n",
    "neg_m1 = -m1\n",
    "\n",
    "print(\"m1 = \",m1)\n",
    "print(\"m1+m2 = \",neg_m1)\n",
    "\n"
   ]
  },
  {
   "cell_type": "markdown",
   "id": "a12d2632-2239-4ff3-b11e-b1e707fb653a",
   "metadata": {},
   "source": [
    "### Exercise 9: Multiplication of a Complex Matrix by a Scalar\n",
    "Multiply the complex matrix \n",
    "$$ m = \\begin{bmatrix} 1 - i & 2 \\\\ 3 + i & 4 - 2i \\end{bmatrix} $$ \n",
    "by the complex scalar $$ 2 + 3i $$.\n",
    "\n",
    "## Answer\n",
    "As evident in the code, the answer of the multiplication of these two complex matrices is:\n",
    "$$ (2 + 3i)*m = \\begin{bmatrix} 5 + i & 4 + 6i \\\\ 3 + 11i  & 14 + 8i \\end{bmatrix} $$"
   ]
  },
  {
   "cell_type": "code",
   "execution_count": 45,
   "id": "a807bbee-6d38-468c-9919-04401a001ad4",
   "metadata": {
    "jupyter": {
     "source_hidden": true
    }
   },
   "outputs": [
    {
     "name": "stdout",
     "output_type": "stream",
     "text": [
      "m1 =  [[1.-1.j 2.+0.j]\n",
      " [3.+1.j 4.-2.j]]\n",
      "m1+m2 =  [[ 5. +1.j  4. +6.j]\n",
      " [ 3.+11.j 14. +8.j]]\n"
     ]
    }
   ],
   "source": [
    "# Define one 2x2 complex matrix\n",
    "m1 = np.array([[1 - 1j, 2], \n",
    "               [3 + 1j, 4 - 2j]])\n",
    "# Multiplication by a scalar\n",
    "scalar = 2 + 3j\n",
    "mult_m1 = m1 * scalar\n",
    "\n",
    "print(\"m1 = \",m1)\n",
    "print(\"m1+m2 = \",mult_m1)"
   ]
  },
  {
   "cell_type": "markdown",
   "id": "52ebd2d6-e461-4702-96ff-1d0c1e8cdfa0",
   "metadata": {},
   "source": [
    "### Exercise 10: Conjugate of a Complex Matrix\n",
    "Compute the conjugate of the complex matrix \n",
    "$$ m = \\begin{bmatrix} 1 + i & 2 \\\\ 3 - i & 4 + 2i \\end{bmatrix} $$.\n",
    "\n",
    "## Answer\n",
    "As evident in the code, the answer of the conjugate of this  complex matrix is:\n",
    "$$ C(m)  = \\begin{bmatrix} 1 - i & 2 \\\\ 3 + i  & 4 - 2i \\end{bmatrix} $$\n"
   ]
  },
  {
   "cell_type": "code",
   "execution_count": 48,
   "id": "ab05276d-5564-4143-9ef0-112b4007694b",
   "metadata": {
    "collapsed": true,
    "jupyter": {
     "outputs_hidden": true,
     "source_hidden": true
    }
   },
   "outputs": [
    {
     "name": "stdout",
     "output_type": "stream",
     "text": [
      "m1 =  [[1.+1.j 2.+0.j]\n",
      " [3.-1.j 4.+2.j]]\n",
      "C(m1) =  [[1.-1.j 2.-0.j]\n",
      " [3.+1.j 4.-2.j]]\n"
     ]
    }
   ],
   "source": [
    "# Define one 2x2 complex matrix\n",
    "m1 = np.array([[1+1j, 2], \n",
    "               [3-1j, 4+2j]])\n",
    "\n",
    "# Conjugate\n",
    "conjugate_m1 = np.conjugate(m1)\n",
    "\n",
    "print(\"m1 = \",m1)\n",
    "print(\"C(m1) = \",conjugate_m1)"
   ]
  },
  {
   "cell_type": "markdown",
   "id": "ae080534-6a5f-4d05-b434-27bb6f00c517",
   "metadata": {},
   "source": [
    "### Exercise 11: Transpose of a Complex Matrix\n",
    "Find the transpose of the complex matrix \n",
    "$$ m = \\begin{bmatrix} 1 - i & 2 + 2i \\\\ 3 & 4 - i \\end{bmatrix} $$.\n",
    "\n",
    "## Answer\n",
    "As evident in the code, the answer of the transpose of this  complex matrix is:\n",
    "$$ T(m) = \\begin{bmatrix} 1 - i & 3 \\\\ 2+ 2i  & 4 - 1i \\end{bmatrix} $$\n"
   ]
  },
  {
   "cell_type": "code",
   "execution_count": 50,
   "id": "db95e5cf-9085-4189-80b3-22154ed0ef37",
   "metadata": {
    "collapsed": true,
    "jupyter": {
     "outputs_hidden": true,
     "source_hidden": true
    }
   },
   "outputs": [
    {
     "name": "stdout",
     "output_type": "stream",
     "text": [
      "m1 =  [[1.-1.j 2.+2.j]\n",
      " [3.+0.j 4.-1.j]]\n",
      "T(m1) =  [[1.-1.j 3.+0.j]\n",
      " [2.+2.j 4.-1.j]]\n"
     ]
    }
   ],
   "source": [
    "# Define one 2x2 complex matrix\n",
    "m1 = np.array([[1-1j, 2+2j], \n",
    "               [3, 4-1j]])\n",
    "\n",
    "# Transpose\n",
    "transpose_m1 = m1.T\n",
    "\n",
    "print(\"m1 = \",m1)\n",
    "print(\"T(m1) = \",transpose_m1)\n"
   ]
  },
  {
   "cell_type": "markdown",
   "id": "365509c8-53e5-41ec-9f41-ec6e868e4ed4",
   "metadata": {},
   "source": [
    "### Exercise 12: Adjunct (Conjugate Transpose) of a Complex Matrix\n",
    "Calculate the adjunct (or conjugate transpose) of the complex matrix \n",
    "$$ m = \\begin{bmatrix} 1 + 2i & 3 - i \\\\ 4 & 5 + i \\end{bmatrix} $$.\n",
    "\n",
    "## Answer\n",
    "As evident in the code, the answer of the adjunct of this  complex matrix is:\n",
    "$$ Adj(m) = \\begin{bmatrix} 1 - 2i & 4 \\\\ 3 + i  & 5 - i \\end{bmatrix} $$\n"
   ]
  },
  {
   "cell_type": "code",
   "execution_count": 52,
   "id": "bb0fe8d0-aab2-470f-93a6-f0678213df0c",
   "metadata": {
    "collapsed": true,
    "jupyter": {
     "outputs_hidden": true,
     "source_hidden": true
    }
   },
   "outputs": [
    {
     "name": "stdout",
     "output_type": "stream",
     "text": [
      "m1 =  [[1.+2.j 3.-1.j]\n",
      " [4.+0.j 5.+1.j]]\n",
      "Adj(m1) =  [[1.-2.j 4.-0.j]\n",
      " [3.+1.j 5.-1.j]]\n"
     ]
    }
   ],
   "source": [
    "# Define one 2x2 complex matrix\n",
    "m1 = np.array([[1+2j, 3-1j], \n",
    "               [4, 5+1j]])\n",
    "\n",
    "# Adjunct (Conjugate transpose)\n",
    "adjunct_m1 = m1.T.conj()\n",
    "\n",
    "print(\"m1 = \",m1)\n",
    "print(\"Adj(m1) = \",adjunct_m1)\n",
    "\n"
   ]
  },
  {
   "cell_type": "markdown",
   "id": "085c8c5c-98f6-44bb-aac4-41aa03b52034",
   "metadata": {},
   "source": [
    "### Exercise 13: Checking the Dimensions of a Matrix\n",
    "Determine the dimensions of the complex matrix \n",
    "$$ m = \\begin{bmatrix} 1 - i & 2 \\\\ 3 + 2i & 4 - i \\end{bmatrix} $$.\n",
    "\n",
    "## Answer\n",
    "As evident in the code, the answer of the dimensions of this  complex matrix is:\n",
    "$$ Dim(m) =  (2,2)$$\n"
   ]
  },
  {
   "cell_type": "code",
   "execution_count": 54,
   "id": "d2c04657-1be6-482e-b5e4-95222f0de476",
   "metadata": {
    "collapsed": true,
    "jupyter": {
     "outputs_hidden": true,
     "source_hidden": true
    }
   },
   "outputs": [
    {
     "name": "stdout",
     "output_type": "stream",
     "text": [
      "m1 =  [[1.-1.j 2.+0.j]\n",
      " [3.+2.j 4.-1.j]]\n",
      "Dim(m1) =  (2, 2)\n"
     ]
    }
   ],
   "source": [
    "# Define one 2x2 complex matrix\n",
    "m1 = np.array([[1-1j, 2], \n",
    "               [3+2j, 4-1j]])\n",
    "dimension_m1=m1.shape\n",
    "print(\"m1 = \",m1)\n",
    "print(\"Dim(m1) = \",dimension_m1)"
   ]
  },
  {
   "cell_type": "markdown",
   "id": "60cb4f1c-9543-4668-b67f-206502423409",
   "metadata": {},
   "source": [
    "## Multiplication of Matrices and Vectors\n",
    "\n",
    "### Exercise 14: Multiplying a Complex Square Matrix by a Complex Column Vector\n",
    "Multiply the complex square matrix \n",
    "$$ m = \\begin{bmatrix} 1 + i & 2 - i \\\\ 3 & 4 + i \\end{bmatrix} $$ \n",
    "by the complex column vector \n",
    "$$ v = \\begin{bmatrix} 2 - i \\\\ 1 + 3i \\end{bmatrix} $$.\n",
    "\n",
    "## Answer\n",
    "As evident in the code, the answer of the Multiplying this Complex Square Matrix by this Complex Column Vector is:\n",
    "$$ m1*v1 = \\begin{bmatrix} 8 + 6i \\\\ 7 + 10j \\end{bmatrix} $$"
   ]
  },
  {
   "cell_type": "code",
   "execution_count": 56,
   "id": "b61481e1-60d4-4fb9-9ebd-a2d20e278023",
   "metadata": {
    "collapsed": true,
    "jupyter": {
     "outputs_hidden": true,
     "source_hidden": true
    }
   },
   "outputs": [
    {
     "name": "stdout",
     "output_type": "stream",
     "text": [
      "m1 =  [[1.+1.j 2.-1.j]\n",
      " [3.+0.j 4.+1.j]]\n",
      "v1 =  [[2.-1.j]\n",
      " [1.+3.j]]\n",
      "m1*v1 =  [[8. +6.j]\n",
      " [7.+10.j]]\n"
     ]
    }
   ],
   "source": [
    "m1 = np.array([[1+1j, 2-1j], \n",
    "               [3, 4+1j]])\n",
    "v1 = np.array([[2-1j], [1+3j]])\n",
    "result = np.dot(m1, v1)\n",
    "\n",
    "print(\"m1 = \",m1)\n",
    "print(\"v1 = \",v1)\n",
    "print(\"m1*v1 = \",result)"
   ]
  },
  {
   "cell_type": "code",
   "execution_count": null,
   "id": "3a2e4ac6-20f7-4477-834f-54f4f1194e1b",
   "metadata": {},
   "outputs": [],
   "source": []
  }
 ],
 "metadata": {
  "kernelspec": {
   "display_name": "Python 3 (ipykernel)",
   "language": "python",
   "name": "python3"
  },
  "language_info": {
   "codemirror_mode": {
    "name": "ipython",
    "version": 3
   },
   "file_extension": ".py",
   "mimetype": "text/x-python",
   "name": "python",
   "nbconvert_exporter": "python",
   "pygments_lexer": "ipython3",
   "version": "3.12.0"
  }
 },
 "nbformat": 4,
 "nbformat_minor": 5
}
